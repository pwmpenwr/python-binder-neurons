{
 "cells": [
  {
   "cell_type": "code",
   "execution_count": 3,
   "metadata": {},
   "outputs": [],
   "source": [
    "%matplotlib inline\n",
    "\"\"\" Step 1:\n",
    "\"\"\"\n",
    "\n",
    "from pylab import *\n",
    "\n",
    "range_start = 0\n",
    "range_end = 500\n",
    "range_step = 25\n",
    "range_divisor = 100\n",
    "\n",
    "for current in range(range_start, range_end, range_step):   # Use integer range and divide by 100\n",
    "    tmax = 2000.0\n",
    "    dt = 0.5\n",
    "\n",
    "    # 1.1) Neuron / Network pars\n",
    "    a = 0.02    # RS, IB : 0.02 , FS: 0.1\n",
    "    b = 0.2     # RS, IB ,FS: 0.2\n",
    "    c = -65.0   # RS,FS: −65 IB : −55\n",
    "    d = 8.0     # RS: 8 , IB : 4 , FS: 2\n",
    "\n",
    "    # 1.2) Input pars\n",
    "    Iapp = float(current) / range_divisor\n",
    "    tr = array ([500.0, 1200.0]) / dt  # stm time\n",
    "\n",
    "    # 2) reserve memory\n",
    "    T = int(ceil(tmax / dt))\n",
    "    v = zeros(T)\n",
    "    u = zeros(T)\n",
    "    v[0] = -70  # resting potential\n",
    "    u[0] = -14  # steady state\n",
    "\n",
    "    # 3) for−loop over time\n",
    "    for t in arange(T - 1):\n",
    "        # 3.1) get input\n",
    "        if t > tr[0] and t < tr[1]:\n",
    "            I = Iapp\n",
    "        else:\n",
    "            I = 0\n",
    "\n",
    "        if v[t] < 35:\n",
    "            # 3.2) update ODE\n",
    "            dv = (0.04 * v[t] + 5) * v[t] + 140 - u[t]\n",
    "            v[t + 1] = v[t] + (dv + I) * dt\n",
    "            du = a * (b * v[t] - u[t])\n",
    "            u[t + 1] = u[t] + dt * du\n",
    "        else :\n",
    "            # 3.3) spike !\n",
    "            v[t] = 35\n",
    "            v[t + 1] = c\n",
    "            u[t + 1] = u[t] + d\n",
    "\n",
    "    # 4) plot voltage trace\n",
    "    figure()\n",
    "    tvec = arange(0.0, tmax, dt)\n",
    "    plot(tvec, v, 'b', label='Voltage trace')\n",
    "    xlabel('Time [ms]')\n",
    "    ylabel('Membrane voltage [mV]')\n",
    "    title('A single qIF neuron with %f current step input' % Iapp)\n",
    "    show()\n",
    "\n",
    "#if __name__ == '__main__':\n",
    "#    import doctest\n",
    "#    doctest.testmod()"
   ]
  },
  {
   "cell_type": "markdown",
   "metadata": {},
   "source": [
    "This is just some text.\n",
    "Perhaps we should try to make something useful here."
   ]
  }
 ],
 "metadata": {
  "kernelspec": {
   "display_name": "Python 3",
   "language": "python",
   "name": "python3"
  },
  "language_info": {
   "codemirror_mode": {
    "name": "ipython",
    "version": 3
   },
   "file_extension": ".py",
   "mimetype": "text/x-python",
   "name": "python",
   "nbconvert_exporter": "python",
   "pygments_lexer": "ipython3",
   "version": "3.6.5"
  }
 },
 "nbformat": 4,
 "nbformat_minor": 2
}
